{
 "cells": [
  {
   "cell_type": "markdown",
   "source": [
    "## Imports"
   ],
   "metadata": {
    "collapsed": false,
    "pycharm": {
     "name": "#%% md\n"
    }
   }
  },
  {
   "cell_type": "code",
   "execution_count": 1,
   "outputs": [],
   "source": [
    "import datetime\n",
    "import random\n",
    "import time\n",
    "\n",
    "import numpy as np\n",
    "import pandas as pd\n",
    "import requests\n",
    "import copy\n",
    "from bs4 import BeautifulSoup\n",
    "from selenium.webdriver.chrome.service import Service\n",
    "from selenium import webdriver"
   ],
   "metadata": {
    "collapsed": false,
    "pycharm": {
     "name": "#%%\n"
    }
   }
  },
  {
   "cell_type": "markdown",
   "source": [
    "## Helpers"
   ],
   "metadata": {
    "collapsed": false,
    "pycharm": {
     "name": "#%% md\n"
    }
   }
  },
  {
   "cell_type": "code",
   "execution_count": 2,
   "outputs": [],
   "source": [
    "class SeleniumDriver:\n",
    "    def __init__(self, driver_path=r'chromedriver.exe'):\n",
    "        options = webdriver.ChromeOptions()\n",
    "        options.add_argument(r\"--user-data-dir=C:\\Users\\dm1tr\\AppData\\Local\\Google\\Chrome\\User Data\")\n",
    "        options.add_argument(r'--profile-directory=Default')\n",
    "        s = Service(driver_path)\n",
    "        self.driver = webdriver.Chrome(service=s, options=options)\n",
    "\n",
    "    def get_html(self, url):\n",
    "        time.sleep(random.randint(1, 3))\n",
    "        self.driver.get(url)\n",
    "        time.sleep(random.randint(5, 10))\n",
    "        return self.driver.page_source"
   ],
   "metadata": {
    "collapsed": false,
    "pycharm": {
     "name": "#%%\n"
    }
   }
  },
  {
   "cell_type": "markdown",
   "source": [
    "## Parser"
   ],
   "metadata": {
    "collapsed": false,
    "pycharm": {
     "name": "#%% md\n"
    }
   }
  },
  {
   "cell_type": "code",
   "execution_count": 3,
   "outputs": [],
   "source": [
    "class AutoRuParser:\n",
    "    def __init__(self, driver, result=None):\n",
    "        self.initial_url = 'https://auto.ru/moskva/cars/bmw/all/'\n",
    "        self.driver = driver\n",
    "        if result is None:\n",
    "            self.__result = {\n",
    "                'title': [],\n",
    "                'engine': [],\n",
    "                'gearbox': [],\n",
    "                'body': [],\n",
    "                'wheel': [],\n",
    "                'condition': [],\n",
    "                'creation_date': [],\n",
    "                'views_cnt': [],\n",
    "                'owners': [],\n",
    "                'pts': [],\n",
    "                'accident': [],\n",
    "                'customs': [],\n",
    "                'transmission': [],\n",
    "                'color': [],\n",
    "                'mileage': [],\n",
    "                'year': [],\n",
    "                'real_owner': [],\n",
    "                'price': [],\n",
    "                'dealer': [],\n",
    "            }\n",
    "        else:\n",
    "            self.__result = result\n",
    "\n",
    "        self.__errors = []\n",
    "\n",
    "    @property\n",
    "    def result(self):\n",
    "        return copy.deepcopy(self.__result)\n",
    "\n",
    "    @property\n",
    "    def shaved_result(self):\n",
    "        res_copy = self.result\n",
    "        minn = np.min(list(map(len, res_copy.values())))\n",
    "        maxx = np.max(list(map(len, res_copy.values())))\n",
    "\n",
    "        print(f'max len is {maxx}. shaving all to min = {minn}')\n",
    "        for k in res_copy.keys():\n",
    "            res_copy[k] = res_copy[k][:minn]\n",
    "\n",
    "        return res_copy\n",
    "\n",
    "\n",
    "    def parse(self):\n",
    "        page = 1\n",
    "        while True:\n",
    "            cur_url = f'{self.initial_url}?page={page}'\n",
    "            html = self.driver.get_html(cur_url)\n",
    "            soup = BeautifulSoup(html)\n",
    "            main_cards = soup.find_all('div', class_='ListingItem__main')\n",
    "            print(page)\n",
    "\n",
    "            if soup.find('a', class_='Button_checked').text == '1' and page != 1:\n",
    "                break\n",
    "\n",
    "            for main_card in main_cards:\n",
    "                try:\n",
    "                    link = main_card.find('a', class_='ListingItemTitle__link')\n",
    "                    html = self.driver.get_html(link['href'])\n",
    "                    soup = BeautifulSoup(html)\n",
    "\n",
    "                    title = soup.find('h1', class_='CardHead__title')\n",
    "                    if title is None:\n",
    "                        continue\n",
    "\n",
    "                    body = soup.find('li', class_='CardInfoRow CardInfoRow_bodytype')\n",
    "                    if body is None:\n",
    "                        continue\n",
    "\n",
    "                    self.__result['title'].append(title.text)\n",
    "                    benefits = soup.find_all('div', class_='CardBenefits__item-title')\n",
    "\n",
    "                    real_owner = 0\n",
    "                    accident = 1\n",
    "                    for benefit in benefits:\n",
    "                        if 'Продаёт собственник' in benefit.text:\n",
    "                            real_owner = 1\n",
    "                        if 'ДТП не' in benefit.text:\n",
    "                            accident = 0\n",
    "\n",
    "                    self.__result['dealer'].append(\n",
    "                        1 if soup.find('div', class_='CardSellerNamePlace__owner-info_dealer') is not None else 0)\n",
    "\n",
    "                    self.__result['accident'].append(accident)\n",
    "                    self.__result['real_owner'].append(real_owner)\n",
    "\n",
    "                    views_cnt = soup.find('div', class_='CardHead__infoItem CardHead__views')\n",
    "                    self.__result['views_cnt'].append(views_cnt.text if views_cnt is not None else 0)\n",
    "\n",
    "                    creation_date = soup.find('div', class_='CardHead__infoItem CardHead__creationDate')\n",
    "                    self.__result['creation_date'].append(\n",
    "                        creation_date.text if creation_date is not None else datetime.date.today())\n",
    "\n",
    "                    year = soup.find('li', class_='CardInfoRow CardInfoRow_year')\n",
    "                    self.__result['year'].append(year.a.text if year is not None else '')\n",
    "\n",
    "                    mileage = soup.find('li', class_='CardInfoRow CardInfoRow_kmAge')\n",
    "                    self.__result['mileage'].append(\n",
    "                        mileage.find_all('span')[1].text.replace('&nbsp;', '') if mileage is not None else np.nan)\n",
    "\n",
    "                    body = soup.find('li', class_='CardInfoRow CardInfoRow_bodytype').a.text\n",
    "                    self.__result['body'].append(body)\n",
    "\n",
    "                    color = soup.find('li', class_='CardInfoRow CardInfoRow_color').a.text\n",
    "                    self.__result['color'].append(color)\n",
    "\n",
    "                    engine = soup.find('li', class_='CardInfoRow CardInfoRow_engine').div.text\n",
    "                    self.__result['engine'].append(engine)\n",
    "\n",
    "                    gearbox = soup.find('li', class_='CardInfoRow CardInfoRow_transmission').find_all('span')[1].text\n",
    "                    self.__result['gearbox'].append(gearbox)\n",
    "\n",
    "                    transmission = soup.find('li', class_='CardInfoRow CardInfoRow_drive').find_all('span')[1].text\n",
    "                    self.__result['transmission'].append(transmission)\n",
    "\n",
    "                    wheel = soup.find('li', class_='CardInfoRow CardInfoRow_wheel').find_all('span')[1].text\n",
    "                    self.__result['wheel'].append(wheel)\n",
    "\n",
    "                    condition = soup.find('li', class_='CardInfoRow CardInfoRow_state').find_all('span')[1].text\n",
    "                    self.__result['condition'].append(condition)\n",
    "\n",
    "                    owners = soup.find('li', class_='CardInfoRow CardInfoRow_ownersCount').find_all('span')[1].text\n",
    "                    self.__result['owners'].append(owners)\n",
    "\n",
    "                    pts = soup.find('li', class_='CardInfoRow CardInfoRow_pts').find_all('span')[1].text\n",
    "                    self.__result['pts'].append(pts)\n",
    "\n",
    "                    customs = soup.find('li', class_='CardInfoRow CardInfoRow_customs').find_all('span')[1].text\n",
    "                    self.__result['customs'].append(customs)\n",
    "\n",
    "                    price = soup.find('span', class_='OfferPriceCaption__price').text\n",
    "                    self.__result['price'].append(price)\n",
    "                except Exception as ex:\n",
    "                    self.__errors.append((ex, link))\n",
    "                    print(ex)\n",
    "                    print('------')\n",
    "                    print(link)\n",
    "            page += 1"
   ],
   "metadata": {
    "collapsed": false,
    "pycharm": {
     "name": "#%%\n"
    }
   }
  },
  {
   "cell_type": "markdown",
   "source": [
    "## Parsing"
   ],
   "metadata": {
    "collapsed": false,
    "pycharm": {
     "name": "#%% md\n"
    }
   }
  },
  {
   "cell_type": "code",
   "execution_count": 4,
   "outputs": [
    {
     "name": "stdout",
     "output_type": "stream",
     "text": [
      "1\n",
      "2\n",
      "3\n",
      "4\n",
      "5\n",
      "6\n",
      "7\n",
      "'NoneType' object has no attribute 'text'\n",
      "------\n",
      "https://auto.ru/moskva/cars/bmw/all/?page=7\n",
      "8\n",
      "9\n",
      "'NoneType' object has no attribute 'text'\n",
      "------\n",
      "https://auto.ru/moskva/cars/bmw/all/?page=9\n",
      "10\n",
      "11\n",
      "12\n",
      "13\n",
      "14\n",
      "15\n",
      "16\n",
      "17\n",
      "18\n",
      "19\n",
      "20\n",
      "21\n",
      "22\n",
      "'NoneType' object has no attribute 'text'\n",
      "------\n",
      "https://auto.ru/moskva/cars/bmw/all/?page=22\n",
      "23\n",
      "24\n",
      "25\n",
      "26\n",
      "27\n",
      "28\n",
      "'NoneType' object has no attribute 'text'\n",
      "------\n",
      "https://auto.ru/moskva/cars/bmw/all/?page=28\n",
      "29\n",
      "30\n",
      "'NoneType' object has no attribute 'text'\n",
      "------\n",
      "https://auto.ru/moskva/cars/bmw/all/?page=30\n",
      "31\n",
      "'NoneType' object has no attribute 'text'\n",
      "------\n",
      "https://auto.ru/moskva/cars/bmw/all/?page=31\n",
      "'NoneType' object has no attribute 'text'\n",
      "------\n",
      "https://auto.ru/moskva/cars/bmw/all/?page=31\n",
      "32\n",
      "33\n",
      "'NoneType' object has no attribute 'text'\n",
      "------\n",
      "https://auto.ru/moskva/cars/bmw/all/?page=33\n",
      "34\n",
      "35\n",
      "36\n",
      "'NoneType' object has no attribute 'text'\n",
      "------\n",
      "https://auto.ru/moskva/cars/bmw/all/?page=36\n",
      "37\n",
      "38\n",
      "39\n",
      "40\n",
      "41\n",
      "42\n",
      "43\n",
      "44\n",
      "45\n",
      "46\n",
      "47\n",
      "48\n",
      "49\n",
      "50\n",
      "'NoneType' object has no attribute 'text'\n",
      "------\n",
      "https://auto.ru/moskva/cars/bmw/all/?page=50\n",
      "51\n",
      "52\n",
      "53\n",
      "54\n",
      "55\n",
      "56\n",
      "'NoneType' object has no attribute 'text'\n",
      "------\n",
      "https://auto.ru/moskva/cars/bmw/all/?page=56\n",
      "57\n",
      "58\n",
      "59\n",
      "60\n",
      "61\n",
      "62\n",
      "63\n",
      "64\n",
      "65\n",
      "66\n",
      "67\n",
      "68\n",
      "69\n",
      "'NoneType' object has no attribute 'text'\n",
      "------\n",
      "https://auto.ru/moskva/cars/bmw/all/?page=69\n",
      "70\n",
      "71\n",
      "72\n",
      "73\n",
      "74\n",
      "75\n",
      "'NoneType' object has no attribute 'text'\n",
      "------\n",
      "https://auto.ru/moskva/cars/bmw/all/?page=75\n",
      "'NoneType' object has no attribute 'text'\n",
      "------\n",
      "https://auto.ru/moskva/cars/bmw/all/?page=75\n",
      "76\n",
      "77\n",
      "78\n",
      "79\n",
      "80\n",
      "81\n",
      "82\n",
      "'NoneType' object has no attribute 'text'\n",
      "------\n",
      "https://auto.ru/moskva/cars/bmw/all/?page=82\n",
      "'NoneType' object has no attribute 'find_all'\n",
      "------\n",
      "https://auto.ru/moskva/cars/bmw/all/?page=82\n",
      "83\n",
      "84\n",
      "'NoneType' object has no attribute 'text'\n",
      "------\n",
      "https://auto.ru/moskva/cars/bmw/all/?page=84\n",
      "'NoneType' object has no attribute 'text'\n",
      "------\n",
      "https://auto.ru/moskva/cars/bmw/all/?page=84\n",
      "85\n",
      "86\n",
      "87\n",
      "88\n",
      "'NoneType' object has no attribute 'text'\n",
      "------\n",
      "https://auto.ru/moskva/cars/bmw/all/?page=88\n",
      "89\n",
      "90\n",
      "91\n",
      "92\n",
      "93\n",
      "'NoneType' object has no attribute 'text'\n",
      "------\n",
      "https://auto.ru/moskva/cars/bmw/all/?page=93\n",
      "94\n",
      "'NoneType' object has no attribute 'text'\n",
      "------\n",
      "https://auto.ru/moskva/cars/bmw/all/?page=94\n",
      "95\n",
      "96\n",
      "97\n",
      "98\n",
      "99\n",
      "100\n"
     ]
    }
   ],
   "source": [
    "driver = SeleniumDriver()\n",
    "parser = AutoRuParser(driver)\n",
    "parser.parse()"
   ],
   "metadata": {
    "collapsed": false,
    "pycharm": {
     "name": "#%%\n"
    }
   }
  },
  {
   "cell_type": "code",
   "execution_count": 13,
   "outputs": [
    {
     "data": {
      "text/plain": "                                        title                     engine  \\\n0     BMW 5 серии 520d V (E60/E61) Рестайлинг  2.0 л / 163 л.с. / Дизель   \n1                   BMW 3 серии 320i VI (F3x)  2.0 л / 184 л.с. / Бензин   \n2           BMW 5 серии 523i VI (F10/F11/F07)  2.5 л / 204 л.с. / Бензин   \n3              BMW X5 50i II (E70) Рестайлинг  4.4 л / 407 л.с. / Бензин   \n4              BMW X5 3.0i I (E53) Рестайлинг  3.0 л / 231 л.с. / Бензин   \n...                                       ...                        ...   \n3404                      BMW X6 30d II (F16)  3.0 л / 249 л.с. / Дизель   \n3405            BMW 6 серии 650i II (E63/E64)  3.0 л / 249 л.с. / Дизель   \n3406                      BMW X5 30d IV (G05)  2.0 л / 190 л.с. / Дизель   \n3407                     BMW X5 M50d IV (G05)  4.4 л / 600 л.с. / Бензин   \n3408     BMW 7 серии 730d xDrive VI (G11/G12)  3.0 л / 313 л.с. / Дизель   \n\n             gearbox               body  wheel           condition  \\\n0     автоматическая              седан  Левый  Не требует ремонта   \n1     автоматическая              седан  Левый  Не требует ремонта   \n2     автоматическая              седан  Левый  Не требует ремонта   \n3     автоматическая  внедорожник 5 дв.  Левый  Не требует ремонта   \n4     автоматическая  внедорожник 5 дв.  Левый  Не требует ремонта   \n...              ...                ...    ...                 ...   \n3404  автоматическая  внедорожник 5 дв.  Левый  Не требует ремонта   \n3405  автоматическая               купе  Левый  Не требует ремонта   \n3406  автоматическая  внедорожник 5 дв.  Левый  Не требует ремонта   \n3407  автоматическая  внедорожник 5 дв.  Левый  Не требует ремонта   \n3408  автоматическая              седан  Левый  Не требует ремонта   \n\n     creation_date           views_cnt       owners       pts  accident  \\\n0         5 ноября    143 (47 сегодня)  2 владельца  Оригинал         0   \n1         6 ноября     51 (51 сегодня)  2 владельца  Оригинал         0   \n2       28 октября  3901 (130 сегодня)  3 или более  Оригинал         0   \n3       27 октября  7785 (231 сегодня)  3 или более  Оригинал         1   \n4         1 ноября  1733 (151 сегодня)  3 или более  Оригинал         0   \n...            ...                 ...          ...       ...       ...   \n3404     1 октября     809 (2 сегодня)   1 владелец  Оригинал         0   \n3405    28 октября     461 (2 сегодня)  3 или более  Оригинал         1   \n3406    27 октября     263 (1 сегодня)   1 владелец  Оригинал         1   \n3407   13 сентября     995 (2 сегодня)  3 или более  Дубликат         0   \n3408    31 октября                 212  2 владельца  Оригинал         1   \n\n         customs transmission   color     mileage  year  real_owner  \\\n0     Растаможен       задний   серый  216 100 км  2007           0   \n1     Растаможен       задний   серый   72 650 км  2014           0   \n2     Растаможен       задний   синий  202 000 км  2011           0   \n3     Растаможен       полный  чёрный  145 000 км  2012           0   \n4     Растаможен       полный  чёрный  219 000 км  2005           0   \n...          ...          ...     ...         ...   ...         ...   \n3404  Растаможен       полный  чёрный   52 000 км  2019           0   \n3405  Растаможен       полный  чёрный  185 500 км  2007           0   \n3406  Растаможен       задний  чёрный   60 000 км  2020           1   \n3407  Растаможен       полный  чёрный   72 000 км  2019           0   \n3408  Растаможен       полный  чёрный   52 300 км  2018           1   \n\n             price  dealer  \n0        985 000 ₽       0  \n1      1 675 000 ₽       0  \n2      1 155 000 ₽       1  \n3      1 499 000 ₽       1  \n4        799 000 ₽       1  \n...            ...     ...  \n3404   4 800 000 ₽       0  \n3405   1 750 000 ₽       0  \n3406  10 700 000 ₽       0  \n3407   3 350 000 ₽       0  \n3408   1 270 000 ₽       0  \n\n[3409 rows x 19 columns]",
      "text/html": "<div>\n<style scoped>\n    .dataframe tbody tr th:only-of-type {\n        vertical-align: middle;\n    }\n\n    .dataframe tbody tr th {\n        vertical-align: top;\n    }\n\n    .dataframe thead th {\n        text-align: right;\n    }\n</style>\n<table border=\"1\" class=\"dataframe\">\n  <thead>\n    <tr style=\"text-align: right;\">\n      <th></th>\n      <th>title</th>\n      <th>engine</th>\n      <th>gearbox</th>\n      <th>body</th>\n      <th>wheel</th>\n      <th>condition</th>\n      <th>creation_date</th>\n      <th>views_cnt</th>\n      <th>owners</th>\n      <th>pts</th>\n      <th>accident</th>\n      <th>customs</th>\n      <th>transmission</th>\n      <th>color</th>\n      <th>mileage</th>\n      <th>year</th>\n      <th>real_owner</th>\n      <th>price</th>\n      <th>dealer</th>\n    </tr>\n  </thead>\n  <tbody>\n    <tr>\n      <th>0</th>\n      <td>BMW 5 серии 520d V (E60/E61) Рестайлинг</td>\n      <td>2.0 л / 163 л.с. / Дизель</td>\n      <td>автоматическая</td>\n      <td>седан</td>\n      <td>Левый</td>\n      <td>Не требует ремонта</td>\n      <td>5 ноября</td>\n      <td>143 (47 сегодня)</td>\n      <td>2 владельца</td>\n      <td>Оригинал</td>\n      <td>0</td>\n      <td>Растаможен</td>\n      <td>задний</td>\n      <td>серый</td>\n      <td>216 100 км</td>\n      <td>2007</td>\n      <td>0</td>\n      <td>985 000 ₽</td>\n      <td>0</td>\n    </tr>\n    <tr>\n      <th>1</th>\n      <td>BMW 3 серии 320i VI (F3x)</td>\n      <td>2.0 л / 184 л.с. / Бензин</td>\n      <td>автоматическая</td>\n      <td>седан</td>\n      <td>Левый</td>\n      <td>Не требует ремонта</td>\n      <td>6 ноября</td>\n      <td>51 (51 сегодня)</td>\n      <td>2 владельца</td>\n      <td>Оригинал</td>\n      <td>0</td>\n      <td>Растаможен</td>\n      <td>задний</td>\n      <td>серый</td>\n      <td>72 650 км</td>\n      <td>2014</td>\n      <td>0</td>\n      <td>1 675 000 ₽</td>\n      <td>0</td>\n    </tr>\n    <tr>\n      <th>2</th>\n      <td>BMW 5 серии 523i VI (F10/F11/F07)</td>\n      <td>2.5 л / 204 л.с. / Бензин</td>\n      <td>автоматическая</td>\n      <td>седан</td>\n      <td>Левый</td>\n      <td>Не требует ремонта</td>\n      <td>28 октября</td>\n      <td>3901 (130 сегодня)</td>\n      <td>3 или более</td>\n      <td>Оригинал</td>\n      <td>0</td>\n      <td>Растаможен</td>\n      <td>задний</td>\n      <td>синий</td>\n      <td>202 000 км</td>\n      <td>2011</td>\n      <td>0</td>\n      <td>1 155 000 ₽</td>\n      <td>1</td>\n    </tr>\n    <tr>\n      <th>3</th>\n      <td>BMW X5 50i II (E70) Рестайлинг</td>\n      <td>4.4 л / 407 л.с. / Бензин</td>\n      <td>автоматическая</td>\n      <td>внедорожник 5 дв.</td>\n      <td>Левый</td>\n      <td>Не требует ремонта</td>\n      <td>27 октября</td>\n      <td>7785 (231 сегодня)</td>\n      <td>3 или более</td>\n      <td>Оригинал</td>\n      <td>1</td>\n      <td>Растаможен</td>\n      <td>полный</td>\n      <td>чёрный</td>\n      <td>145 000 км</td>\n      <td>2012</td>\n      <td>0</td>\n      <td>1 499 000 ₽</td>\n      <td>1</td>\n    </tr>\n    <tr>\n      <th>4</th>\n      <td>BMW X5 3.0i I (E53) Рестайлинг</td>\n      <td>3.0 л / 231 л.с. / Бензин</td>\n      <td>автоматическая</td>\n      <td>внедорожник 5 дв.</td>\n      <td>Левый</td>\n      <td>Не требует ремонта</td>\n      <td>1 ноября</td>\n      <td>1733 (151 сегодня)</td>\n      <td>3 или более</td>\n      <td>Оригинал</td>\n      <td>0</td>\n      <td>Растаможен</td>\n      <td>полный</td>\n      <td>чёрный</td>\n      <td>219 000 км</td>\n      <td>2005</td>\n      <td>0</td>\n      <td>799 000 ₽</td>\n      <td>1</td>\n    </tr>\n    <tr>\n      <th>...</th>\n      <td>...</td>\n      <td>...</td>\n      <td>...</td>\n      <td>...</td>\n      <td>...</td>\n      <td>...</td>\n      <td>...</td>\n      <td>...</td>\n      <td>...</td>\n      <td>...</td>\n      <td>...</td>\n      <td>...</td>\n      <td>...</td>\n      <td>...</td>\n      <td>...</td>\n      <td>...</td>\n      <td>...</td>\n      <td>...</td>\n      <td>...</td>\n    </tr>\n    <tr>\n      <th>3404</th>\n      <td>BMW X6 30d II (F16)</td>\n      <td>3.0 л / 249 л.с. / Дизель</td>\n      <td>автоматическая</td>\n      <td>внедорожник 5 дв.</td>\n      <td>Левый</td>\n      <td>Не требует ремонта</td>\n      <td>1 октября</td>\n      <td>809 (2 сегодня)</td>\n      <td>1 владелец</td>\n      <td>Оригинал</td>\n      <td>0</td>\n      <td>Растаможен</td>\n      <td>полный</td>\n      <td>чёрный</td>\n      <td>52 000 км</td>\n      <td>2019</td>\n      <td>0</td>\n      <td>4 800 000 ₽</td>\n      <td>0</td>\n    </tr>\n    <tr>\n      <th>3405</th>\n      <td>BMW 6 серии 650i II (E63/E64)</td>\n      <td>3.0 л / 249 л.с. / Дизель</td>\n      <td>автоматическая</td>\n      <td>купе</td>\n      <td>Левый</td>\n      <td>Не требует ремонта</td>\n      <td>28 октября</td>\n      <td>461 (2 сегодня)</td>\n      <td>3 или более</td>\n      <td>Оригинал</td>\n      <td>1</td>\n      <td>Растаможен</td>\n      <td>полный</td>\n      <td>чёрный</td>\n      <td>185 500 км</td>\n      <td>2007</td>\n      <td>0</td>\n      <td>1 750 000 ₽</td>\n      <td>0</td>\n    </tr>\n    <tr>\n      <th>3406</th>\n      <td>BMW X5 30d IV (G05)</td>\n      <td>2.0 л / 190 л.с. / Дизель</td>\n      <td>автоматическая</td>\n      <td>внедорожник 5 дв.</td>\n      <td>Левый</td>\n      <td>Не требует ремонта</td>\n      <td>27 октября</td>\n      <td>263 (1 сегодня)</td>\n      <td>1 владелец</td>\n      <td>Оригинал</td>\n      <td>1</td>\n      <td>Растаможен</td>\n      <td>задний</td>\n      <td>чёрный</td>\n      <td>60 000 км</td>\n      <td>2020</td>\n      <td>1</td>\n      <td>10 700 000 ₽</td>\n      <td>0</td>\n    </tr>\n    <tr>\n      <th>3407</th>\n      <td>BMW X5 M50d IV (G05)</td>\n      <td>4.4 л / 600 л.с. / Бензин</td>\n      <td>автоматическая</td>\n      <td>внедорожник 5 дв.</td>\n      <td>Левый</td>\n      <td>Не требует ремонта</td>\n      <td>13 сентября</td>\n      <td>995 (2 сегодня)</td>\n      <td>3 или более</td>\n      <td>Дубликат</td>\n      <td>0</td>\n      <td>Растаможен</td>\n      <td>полный</td>\n      <td>чёрный</td>\n      <td>72 000 км</td>\n      <td>2019</td>\n      <td>0</td>\n      <td>3 350 000 ₽</td>\n      <td>0</td>\n    </tr>\n    <tr>\n      <th>3408</th>\n      <td>BMW 7 серии 730d xDrive VI (G11/G12)</td>\n      <td>3.0 л / 313 л.с. / Дизель</td>\n      <td>автоматическая</td>\n      <td>седан</td>\n      <td>Левый</td>\n      <td>Не требует ремонта</td>\n      <td>31 октября</td>\n      <td>212</td>\n      <td>2 владельца</td>\n      <td>Оригинал</td>\n      <td>1</td>\n      <td>Растаможен</td>\n      <td>полный</td>\n      <td>чёрный</td>\n      <td>52 300 км</td>\n      <td>2018</td>\n      <td>1</td>\n      <td>1 270 000 ₽</td>\n      <td>0</td>\n    </tr>\n  </tbody>\n</table>\n<p>3409 rows × 19 columns</p>\n</div>"
     },
     "execution_count": 13,
     "metadata": {},
     "output_type": "execute_result"
    }
   ],
   "source": [
    "res = parser.shaved_result\n",
    "df = pd.DataFrame(res)\n",
    "df"
   ],
   "metadata": {
    "collapsed": false,
    "pycharm": {
     "name": "#%%\n"
    }
   }
  },
  {
   "cell_type": "code",
   "execution_count": 14,
   "outputs": [],
   "source": [
    "df.to_csv('autos.csv', index=False)"
   ],
   "metadata": {
    "collapsed": false,
    "pycharm": {
     "name": "#%%\n"
    }
   }
  },
  {
   "cell_type": "code",
   "execution_count": 6,
   "outputs": [],
   "source": [
    "res = parser.shaved_result"
   ],
   "metadata": {
    "collapsed": false,
    "pycharm": {
     "name": "#%%\n"
    }
   }
  },
  {
   "cell_type": "code",
   "execution_count": 15,
   "outputs": [],
   "source": [
    "df = pd.read_csv('autos.csv')"
   ],
   "metadata": {
    "collapsed": false,
    "pycharm": {
     "name": "#%%\n"
    }
   }
  },
  {
   "cell_type": "code",
   "execution_count": 16,
   "outputs": [
    {
     "data": {
      "text/plain": "                                        title                     engine  \\\n0     BMW 5 серии 520d V (E60/E61) Рестайлинг  2.0 л / 163 л.с. / Дизель   \n1                   BMW 3 серии 320i VI (F3x)  2.0 л / 184 л.с. / Бензин   \n2           BMW 5 серии 523i VI (F10/F11/F07)  2.5 л / 204 л.с. / Бензин   \n3              BMW X5 50i II (E70) Рестайлинг  4.4 л / 407 л.с. / Бензин   \n4              BMW X5 3.0i I (E53) Рестайлинг  3.0 л / 231 л.с. / Бензин   \n...                                       ...                        ...   \n3404                      BMW X6 30d II (F16)  3.0 л / 249 л.с. / Дизель   \n3405            BMW 6 серии 650i II (E63/E64)  3.0 л / 249 л.с. / Дизель   \n3406                      BMW X5 30d IV (G05)  2.0 л / 190 л.с. / Дизель   \n3407                     BMW X5 M50d IV (G05)  4.4 л / 600 л.с. / Бензин   \n3408     BMW 7 серии 730d xDrive VI (G11/G12)  3.0 л / 313 л.с. / Дизель   \n\n             gearbox               body  wheel           condition  \\\n0     автоматическая              седан  Левый  Не требует ремонта   \n1     автоматическая              седан  Левый  Не требует ремонта   \n2     автоматическая              седан  Левый  Не требует ремонта   \n3     автоматическая  внедорожник 5 дв.  Левый  Не требует ремонта   \n4     автоматическая  внедорожник 5 дв.  Левый  Не требует ремонта   \n...              ...                ...    ...                 ...   \n3404  автоматическая  внедорожник 5 дв.  Левый  Не требует ремонта   \n3405  автоматическая               купе  Левый  Не требует ремонта   \n3406  автоматическая  внедорожник 5 дв.  Левый  Не требует ремонта   \n3407  автоматическая  внедорожник 5 дв.  Левый  Не требует ремонта   \n3408  автоматическая              седан  Левый  Не требует ремонта   \n\n     creation_date           views_cnt       owners       pts  accident  \\\n0         5 ноября    143 (47 сегодня)  2 владельца  Оригинал         0   \n1         6 ноября     51 (51 сегодня)  2 владельца  Оригинал         0   \n2       28 октября  3901 (130 сегодня)  3 или более  Оригинал         0   \n3       27 октября  7785 (231 сегодня)  3 или более  Оригинал         1   \n4         1 ноября  1733 (151 сегодня)  3 или более  Оригинал         0   \n...            ...                 ...          ...       ...       ...   \n3404     1 октября     809 (2 сегодня)   1 владелец  Оригинал         0   \n3405    28 октября     461 (2 сегодня)  3 или более  Оригинал         1   \n3406    27 октября     263 (1 сегодня)   1 владелец  Оригинал         1   \n3407   13 сентября     995 (2 сегодня)  3 или более  Дубликат         0   \n3408    31 октября                 212  2 владельца  Оригинал         1   \n\n         customs transmission   color     mileage  year  real_owner  \\\n0     Растаможен       задний   серый  216 100 км  2007           0   \n1     Растаможен       задний   серый   72 650 км  2014           0   \n2     Растаможен       задний   синий  202 000 км  2011           0   \n3     Растаможен       полный  чёрный  145 000 км  2012           0   \n4     Растаможен       полный  чёрный  219 000 км  2005           0   \n...          ...          ...     ...         ...   ...         ...   \n3404  Растаможен       полный  чёрный   52 000 км  2019           0   \n3405  Растаможен       полный  чёрный  185 500 км  2007           0   \n3406  Растаможен       задний  чёрный   60 000 км  2020           1   \n3407  Растаможен       полный  чёрный   72 000 км  2019           0   \n3408  Растаможен       полный  чёрный   52 300 км  2018           1   \n\n             price  dealer  \n0        985 000 ₽       0  \n1      1 675 000 ₽       0  \n2      1 155 000 ₽       1  \n3      1 499 000 ₽       1  \n4        799 000 ₽       1  \n...            ...     ...  \n3404   4 800 000 ₽       0  \n3405   1 750 000 ₽       0  \n3406  10 700 000 ₽       0  \n3407   3 350 000 ₽       0  \n3408   1 270 000 ₽       0  \n\n[3409 rows x 19 columns]",
      "text/html": "<div>\n<style scoped>\n    .dataframe tbody tr th:only-of-type {\n        vertical-align: middle;\n    }\n\n    .dataframe tbody tr th {\n        vertical-align: top;\n    }\n\n    .dataframe thead th {\n        text-align: right;\n    }\n</style>\n<table border=\"1\" class=\"dataframe\">\n  <thead>\n    <tr style=\"text-align: right;\">\n      <th></th>\n      <th>title</th>\n      <th>engine</th>\n      <th>gearbox</th>\n      <th>body</th>\n      <th>wheel</th>\n      <th>condition</th>\n      <th>creation_date</th>\n      <th>views_cnt</th>\n      <th>owners</th>\n      <th>pts</th>\n      <th>accident</th>\n      <th>customs</th>\n      <th>transmission</th>\n      <th>color</th>\n      <th>mileage</th>\n      <th>year</th>\n      <th>real_owner</th>\n      <th>price</th>\n      <th>dealer</th>\n    </tr>\n  </thead>\n  <tbody>\n    <tr>\n      <th>0</th>\n      <td>BMW 5 серии 520d V (E60/E61) Рестайлинг</td>\n      <td>2.0 л / 163 л.с. / Дизель</td>\n      <td>автоматическая</td>\n      <td>седан</td>\n      <td>Левый</td>\n      <td>Не требует ремонта</td>\n      <td>5 ноября</td>\n      <td>143 (47 сегодня)</td>\n      <td>2 владельца</td>\n      <td>Оригинал</td>\n      <td>0</td>\n      <td>Растаможен</td>\n      <td>задний</td>\n      <td>серый</td>\n      <td>216 100 км</td>\n      <td>2007</td>\n      <td>0</td>\n      <td>985 000 ₽</td>\n      <td>0</td>\n    </tr>\n    <tr>\n      <th>1</th>\n      <td>BMW 3 серии 320i VI (F3x)</td>\n      <td>2.0 л / 184 л.с. / Бензин</td>\n      <td>автоматическая</td>\n      <td>седан</td>\n      <td>Левый</td>\n      <td>Не требует ремонта</td>\n      <td>6 ноября</td>\n      <td>51 (51 сегодня)</td>\n      <td>2 владельца</td>\n      <td>Оригинал</td>\n      <td>0</td>\n      <td>Растаможен</td>\n      <td>задний</td>\n      <td>серый</td>\n      <td>72 650 км</td>\n      <td>2014</td>\n      <td>0</td>\n      <td>1 675 000 ₽</td>\n      <td>0</td>\n    </tr>\n    <tr>\n      <th>2</th>\n      <td>BMW 5 серии 523i VI (F10/F11/F07)</td>\n      <td>2.5 л / 204 л.с. / Бензин</td>\n      <td>автоматическая</td>\n      <td>седан</td>\n      <td>Левый</td>\n      <td>Не требует ремонта</td>\n      <td>28 октября</td>\n      <td>3901 (130 сегодня)</td>\n      <td>3 или более</td>\n      <td>Оригинал</td>\n      <td>0</td>\n      <td>Растаможен</td>\n      <td>задний</td>\n      <td>синий</td>\n      <td>202 000 км</td>\n      <td>2011</td>\n      <td>0</td>\n      <td>1 155 000 ₽</td>\n      <td>1</td>\n    </tr>\n    <tr>\n      <th>3</th>\n      <td>BMW X5 50i II (E70) Рестайлинг</td>\n      <td>4.4 л / 407 л.с. / Бензин</td>\n      <td>автоматическая</td>\n      <td>внедорожник 5 дв.</td>\n      <td>Левый</td>\n      <td>Не требует ремонта</td>\n      <td>27 октября</td>\n      <td>7785 (231 сегодня)</td>\n      <td>3 или более</td>\n      <td>Оригинал</td>\n      <td>1</td>\n      <td>Растаможен</td>\n      <td>полный</td>\n      <td>чёрный</td>\n      <td>145 000 км</td>\n      <td>2012</td>\n      <td>0</td>\n      <td>1 499 000 ₽</td>\n      <td>1</td>\n    </tr>\n    <tr>\n      <th>4</th>\n      <td>BMW X5 3.0i I (E53) Рестайлинг</td>\n      <td>3.0 л / 231 л.с. / Бензин</td>\n      <td>автоматическая</td>\n      <td>внедорожник 5 дв.</td>\n      <td>Левый</td>\n      <td>Не требует ремонта</td>\n      <td>1 ноября</td>\n      <td>1733 (151 сегодня)</td>\n      <td>3 или более</td>\n      <td>Оригинал</td>\n      <td>0</td>\n      <td>Растаможен</td>\n      <td>полный</td>\n      <td>чёрный</td>\n      <td>219 000 км</td>\n      <td>2005</td>\n      <td>0</td>\n      <td>799 000 ₽</td>\n      <td>1</td>\n    </tr>\n    <tr>\n      <th>...</th>\n      <td>...</td>\n      <td>...</td>\n      <td>...</td>\n      <td>...</td>\n      <td>...</td>\n      <td>...</td>\n      <td>...</td>\n      <td>...</td>\n      <td>...</td>\n      <td>...</td>\n      <td>...</td>\n      <td>...</td>\n      <td>...</td>\n      <td>...</td>\n      <td>...</td>\n      <td>...</td>\n      <td>...</td>\n      <td>...</td>\n      <td>...</td>\n    </tr>\n    <tr>\n      <th>3404</th>\n      <td>BMW X6 30d II (F16)</td>\n      <td>3.0 л / 249 л.с. / Дизель</td>\n      <td>автоматическая</td>\n      <td>внедорожник 5 дв.</td>\n      <td>Левый</td>\n      <td>Не требует ремонта</td>\n      <td>1 октября</td>\n      <td>809 (2 сегодня)</td>\n      <td>1 владелец</td>\n      <td>Оригинал</td>\n      <td>0</td>\n      <td>Растаможен</td>\n      <td>полный</td>\n      <td>чёрный</td>\n      <td>52 000 км</td>\n      <td>2019</td>\n      <td>0</td>\n      <td>4 800 000 ₽</td>\n      <td>0</td>\n    </tr>\n    <tr>\n      <th>3405</th>\n      <td>BMW 6 серии 650i II (E63/E64)</td>\n      <td>3.0 л / 249 л.с. / Дизель</td>\n      <td>автоматическая</td>\n      <td>купе</td>\n      <td>Левый</td>\n      <td>Не требует ремонта</td>\n      <td>28 октября</td>\n      <td>461 (2 сегодня)</td>\n      <td>3 или более</td>\n      <td>Оригинал</td>\n      <td>1</td>\n      <td>Растаможен</td>\n      <td>полный</td>\n      <td>чёрный</td>\n      <td>185 500 км</td>\n      <td>2007</td>\n      <td>0</td>\n      <td>1 750 000 ₽</td>\n      <td>0</td>\n    </tr>\n    <tr>\n      <th>3406</th>\n      <td>BMW X5 30d IV (G05)</td>\n      <td>2.0 л / 190 л.с. / Дизель</td>\n      <td>автоматическая</td>\n      <td>внедорожник 5 дв.</td>\n      <td>Левый</td>\n      <td>Не требует ремонта</td>\n      <td>27 октября</td>\n      <td>263 (1 сегодня)</td>\n      <td>1 владелец</td>\n      <td>Оригинал</td>\n      <td>1</td>\n      <td>Растаможен</td>\n      <td>задний</td>\n      <td>чёрный</td>\n      <td>60 000 км</td>\n      <td>2020</td>\n      <td>1</td>\n      <td>10 700 000 ₽</td>\n      <td>0</td>\n    </tr>\n    <tr>\n      <th>3407</th>\n      <td>BMW X5 M50d IV (G05)</td>\n      <td>4.4 л / 600 л.с. / Бензин</td>\n      <td>автоматическая</td>\n      <td>внедорожник 5 дв.</td>\n      <td>Левый</td>\n      <td>Не требует ремонта</td>\n      <td>13 сентября</td>\n      <td>995 (2 сегодня)</td>\n      <td>3 или более</td>\n      <td>Дубликат</td>\n      <td>0</td>\n      <td>Растаможен</td>\n      <td>полный</td>\n      <td>чёрный</td>\n      <td>72 000 км</td>\n      <td>2019</td>\n      <td>0</td>\n      <td>3 350 000 ₽</td>\n      <td>0</td>\n    </tr>\n    <tr>\n      <th>3408</th>\n      <td>BMW 7 серии 730d xDrive VI (G11/G12)</td>\n      <td>3.0 л / 313 л.с. / Дизель</td>\n      <td>автоматическая</td>\n      <td>седан</td>\n      <td>Левый</td>\n      <td>Не требует ремонта</td>\n      <td>31 октября</td>\n      <td>212</td>\n      <td>2 владельца</td>\n      <td>Оригинал</td>\n      <td>1</td>\n      <td>Растаможен</td>\n      <td>полный</td>\n      <td>чёрный</td>\n      <td>52 300 км</td>\n      <td>2018</td>\n      <td>1</td>\n      <td>1 270 000 ₽</td>\n      <td>0</td>\n    </tr>\n  </tbody>\n</table>\n<p>3409 rows × 19 columns</p>\n</div>"
     },
     "execution_count": 16,
     "metadata": {},
     "output_type": "execute_result"
    }
   ],
   "source": [
    "df"
   ],
   "metadata": {
    "collapsed": false,
    "pycharm": {
     "name": "#%%\n"
    }
   }
  },
  {
   "cell_type": "code",
   "execution_count": null,
   "outputs": [],
   "source": [],
   "metadata": {
    "collapsed": false,
    "pycharm": {
     "name": "#%%\n"
    }
   }
  }
 ],
 "metadata": {
  "kernelspec": {
   "display_name": "Python 3",
   "language": "python",
   "name": "python3"
  },
  "language_info": {
   "codemirror_mode": {
    "name": "ipython",
    "version": 2
   },
   "file_extension": ".py",
   "mimetype": "text/x-python",
   "name": "python",
   "nbconvert_exporter": "python",
   "pygments_lexer": "ipython2",
   "version": "2.7.6"
  }
 },
 "nbformat": 4,
 "nbformat_minor": 0
}